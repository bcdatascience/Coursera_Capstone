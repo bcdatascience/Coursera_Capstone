{
 "cells": [
  {
   "cell_type": "code",
   "execution_count": 6,
   "metadata": {},
   "outputs": [
    {
     "name": "stdout",
     "output_type": "stream",
     "text": [
      "0.5.0\n"
     ]
    }
   ],
   "source": [
    "import  os \n",
    "import  folium\n",
    "print (folium .__version__)\n"
   ]
  },
  {
   "cell_type": "code",
   "execution_count": 13,
   "metadata": {},
   "outputs": [
    {
     "data": {
      "application/vnd.jupyter.widget-view+json": {
       "model_id": "b035b0d930ea4104a8dede3301fe85af",
       "version_major": 2,
       "version_minor": 0
      },
      "text/plain": [
       "interactive(children=(FloatSlider(value=43.0, description='lat', max=43.0, min=-43.0), FloatSlider(value=-79.0…"
      ]
     },
     "metadata": {},
     "output_type": "display_data"
    }
   ],
   "source": [
    "import folium\n",
    "from ipywidgets import interact\n",
    "\n",
    "# Cloudmade Mapbox needs an API key, Mapbox Control Room is limited to a few levels\n",
    "tiles = [name.strip() for name in \"\"\"\n",
    "    OpenStreetMap\n",
    "    Mapbox Bright\n",
    "    Mapbox Control Room\n",
    "    Stamen Terrain\n",
    "    Stamen Toner\n",
    "    Stamen Watercolor\n",
    "    CartoDB positron\n",
    "    CartoDB dark_matter\"\"\".strip().split('\\n')]\n",
    "\n",
    "@interact(lat=(-43., 43.), lon=(-79., 79.), tiles=tiles, zoom=(1, 18))\n",
    "def create_map(lat=43.653963, lon=-79.387207, tiles=\"Stamen Toner\", zoom=10):\n",
    "    return folium.Map(location=(lat, lon), tiles=tiles, zoom_start=zoom)\n"
   ]
  },
  {
   "cell_type": "code",
   "execution_count": 9,
   "metadata": {},
   "outputs": [],
   "source": [
    "import folium\n",
    "from folium.features import DivIcon\n",
    "\n",
    "m = folium.Map(\n",
    "    location=[45.3288, -121.6625],\n",
    "    zoom_start=12,\n",
    "    #tiles='Mapbox Bright'\n",
    ")\n",
    "\n",
    "p1 = [45.3288, -121.6625]\n",
    "folium.Marker(p1, icon=DivIcon(\n",
    "        icon_size=(150,36),\n",
    "        icon_anchor=(7,20),\n",
    "        html='<div style=\"font-size: 18pt; color : black\">1</div>',\n",
    "        )).add_to(m)\n",
    "m.add_child(folium.CircleMarker(p1, radius=15))\n",
    "\n",
    "p2 = [45.3311, -121.7113]\n",
    "folium.Marker(p2, icon=DivIcon(\n",
    "        icon_size=(150,36),\n",
    "        icon_anchor=(7,20),\n",
    "        html='<div style=\"font-size: 18pt; color : black\">2</div>',\n",
    "        )).add_to(m)\n",
    "m.add_child(folium.CircleMarker(p2, radius=15))"
   ]
  },
  {
   "cell_type": "code",
   "execution_count": null,
   "metadata": {},
   "outputs": [],
   "source": []
  },
  {
   "cell_type": "code",
   "execution_count": null,
   "metadata": {},
   "outputs": [],
   "source": []
  },
  {
   "cell_type": "code",
   "execution_count": null,
   "metadata": {},
   "outputs": [],
   "source": []
  }
 ],
 "metadata": {
  "kernelspec": {
   "display_name": "Python 3",
   "language": "python",
   "name": "python3"
  },
  "language_info": {
   "codemirror_mode": {
    "name": "ipython",
    "version": 3
   },
   "file_extension": ".py",
   "mimetype": "text/x-python",
   "name": "python",
   "nbconvert_exporter": "python",
   "pygments_lexer": "ipython3",
   "version": "3.7.4"
  }
 },
 "nbformat": 4,
 "nbformat_minor": 2
}
