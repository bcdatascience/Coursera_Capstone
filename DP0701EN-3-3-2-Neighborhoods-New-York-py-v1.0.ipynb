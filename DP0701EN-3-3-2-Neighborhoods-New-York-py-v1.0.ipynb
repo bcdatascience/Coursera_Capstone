{
 "cells": [
  {
   "cell_type": "markdown",
   "metadata": {},
   "source": [
    "<a href=\"https://cognitiveclass.ai\"><img src = \"https://ibm.box.com/shared/static/9gegpsmnsoo25ikkbl4qzlvlyjbgxs5x.png\" width = 400> </a>\n",
    "\n",
    "<h1 align=center><font size = 5>Segmenting and Clustering Neighborhoods in New York City</font></h1>"
   ]
  },
  {
   "cell_type": "markdown",
   "metadata": {},
   "source": [
    "## Introduction\n",
    "\n",
    "In this lab, you will learn how to convert addresses into their equivalent latitude and longitude values. Also, you will use the Foursquare API to explore neighborhoods in New York City. You will use the **explore** function to get the most common venue categories in each neighborhood, and then use this feature to group the neighborhoods into clusters. You will use the *k*-means clustering algorithm to complete this task. Finally, you will use the Folium library to visualize the neighborhoods in New York City and their emerging clusters."
   ]
  },
  {
   "cell_type": "markdown",
   "metadata": {},
   "source": [
    "## Table of Contents\n",
    "\n",
    "<div class=\"alert alert-block alert-info\" style=\"margin-top: 20px\">\n",
    "\n",
    "<font size = 3>\n",
    "\n",
    "1. <a href=\"#item1\">Download and Explore Dataset</a>\n",
    "\n",
    "2. <a href=\"#item2\">Explore Neighborhoods in New York City</a>\n",
    "\n",
    "3. <a href=\"#item3\">Analyze Each Neighborhood</a>\n",
    "\n",
    "4. <a href=\"#item4\">Cluster Neighborhoods</a>\n",
    "\n",
    "5. <a href=\"#item5\">Examine Clusters</a>    \n",
    "</font>\n",
    "</div>"
   ]
  },
  {
   "cell_type": "markdown",
   "metadata": {},
   "source": [
    "Before we get the data and start exploring it, let's download all the dependencies that we will need."
   ]
  },
  {
   "cell_type": "code",
   "execution_count": 1,
   "metadata": {
    "jupyter": {
     "outputs_hidden": false
    }
   },
   "outputs": [
    {
     "name": "stdout",
     "output_type": "stream",
     "text": [
      "Collecting package metadata (current_repodata.json): done\n",
      "Solving environment: done\n",
      "\n",
      "# All requested packages already installed.\n",
      "\n",
      "Libraries imported.\n"
     ]
    }
   ],
   "source": [
    "import numpy as np # library to handle data in a vectorized manner\n",
    "\n",
    "import pandas as pd # library for data analsysis\n",
    "pd.set_option('display.max_columns', None)\n",
    "pd.set_option('display.max_rows', None)\n",
    "\n",
    "import json # library to handle JSON files\n",
    "\n",
    "!conda install -c conda-forge geopy --yes # uncomment this line if you haven't completed the Foursquare API lab\n",
    "from geopy.geocoders import Nominatim # convert an address into latitude and longitude values\n",
    "\n",
    "import requests # library to handle requests\n",
    "from pandas.io.json import json_normalize # tranform JSON file into a pandas dataframe\n",
    "\n",
    "# Matplotlib and associated plotting modules\n",
    "import matplotlib.cm as cm\n",
    "import matplotlib.colors as colors\n",
    "\n",
    "# import k-means from clustering stage\n",
    "from sklearn.cluster import KMeans\n",
    "\n",
    "#!conda install -c conda-forge folium=0.5.0 --yes # uncomment this line if you haven't completed the Foursquare API lab\n",
    "import folium # map rendering library\n",
    "\n",
    "\n",
    "print('Libraries imported.')"
   ]
  },
  {
   "cell_type": "markdown",
   "metadata": {},
   "source": [
    "<a id='item1'></a>"
   ]
  },
  {
   "cell_type": "markdown",
   "metadata": {},
   "source": [
    "## 1. Download and Explore Dataset"
   ]
  },
  {
   "cell_type": "markdown",
   "metadata": {},
   "source": [
    "Neighborhood has a total of 5 boroughs and 306 neighborhoods. In order to segement the neighborhoods and explore them, we will essentially need a dataset that contains the 5 boroughs and the neighborhoods that exist in each borough as well as the the latitude and logitude coordinates of each neighborhood. \n",
    "\n",
    "Luckily, this dataset exists for free on the web. Feel free to try to find this dataset on your own, but here is the link to the dataset: https://geo.nyu.edu/catalog/nyu_2451_34572"
   ]
  },
  {
   "cell_type": "markdown",
   "metadata": {},
   "source": [
    "For your convenience, I downloaded the files and placed it on the server, so you can simply run a `wget` command and access the data. So let's go ahead and do that."
   ]
  },
  {
   "cell_type": "code",
   "execution_count": 20,
   "metadata": {
    "jupyter": {
     "outputs_hidden": false
    },
    "scrolled": true
   },
   "outputs": [
    {
     "name": "stdout",
     "output_type": "stream",
     "text": [
      "Data downloaded!\n"
     ]
    }
   ],
   "source": [
    "#!wget -q -O 'newyork_data.json' https://cocl.us/new_york_dataset\n",
    "#print('Data downloaded!')"
   ]
  },
  {
   "cell_type": "code",
   "execution_count": null,
   "metadata": {},
   "outputs": [],
   "source": []
  },
  {
   "cell_type": "markdown",
   "metadata": {},
   "source": [
    "#### Load and explore the data"
   ]
  },
  {
   "cell_type": "markdown",
   "metadata": {},
   "source": [
    "Next, let's load the data."
   ]
  },
  {
   "cell_type": "code",
   "execution_count": 1,
   "metadata": {
    "jupyter": {
     "outputs_hidden": false
    }
   },
   "outputs": [
    {
     "ename": "NameError",
     "evalue": "name 'json' is not defined",
     "output_type": "error",
     "traceback": [
      "\u001b[0;31m---------------------------------------------------------------------------\u001b[0m",
      "\u001b[0;31mNameError\u001b[0m                                 Traceback (most recent call last)",
      "\u001b[0;32m<ipython-input-1-a185d1f2206f>\u001b[0m in \u001b[0;36m<module>\u001b[0;34m\u001b[0m\n\u001b[1;32m      1\u001b[0m \u001b[0;32mwith\u001b[0m \u001b[0mopen\u001b[0m\u001b[0;34m(\u001b[0m\u001b[0;34m'nyu-2451-36140-geojson.json'\u001b[0m\u001b[0;34m)\u001b[0m \u001b[0;32mas\u001b[0m \u001b[0mjson_data\u001b[0m\u001b[0;34m:\u001b[0m\u001b[0;34m\u001b[0m\u001b[0;34m\u001b[0m\u001b[0m\n\u001b[0;32m----> 2\u001b[0;31m     \u001b[0mGeospatial_Coordinates\u001b[0m \u001b[0;34m=\u001b[0m \u001b[0mjson\u001b[0m\u001b[0;34m.\u001b[0m\u001b[0mload\u001b[0m\u001b[0;34m(\u001b[0m\u001b[0mjson_data\u001b[0m\u001b[0;34m)\u001b[0m\u001b[0;34m\u001b[0m\u001b[0;34m\u001b[0m\u001b[0m\n\u001b[0m",
      "\u001b[0;31mNameError\u001b[0m: name 'json' is not defined"
     ]
    }
   ],
   "source": [
    "with open('nyu-2451-36140-geojson.json') as json_data:\n",
    "    Geospatial_Coordinates = json.load(json_data)"
   ]
  },
  {
   "cell_type": "markdown",
   "metadata": {},
   "source": [
    "Let's take a quick look at the data."
   ]
  },
  {
   "cell_type": "code",
   "execution_count": 11,
   "metadata": {
    "jupyter": {
     "outputs_hidden": false
    }
   },
   "outputs": [
    {
     "data": {
      "text/plain": [
       "{'type': 'FeatureCollection',\n",
       " 'totalFeatures': 52,\n",
       " 'features': [{'type': 'Feature',\n",
       "   'id': 'nyu_2451_36140.1',\n",
       "   'geometry': {'type': 'Point',\n",
       "    'coordinates': [-80.32893371582031, 47.95362854003906, 0]},\n",
       "   'geometry_name': 'geom',\n",
       "   'properties': {'id': 1,\n",
       "    'f_code': 'ZD045',\n",
       "    'f_codedesc': 'Text Description',\n",
       "    'symbol_id': 2,\n",
       "    'tile_id': 1,\n",
       "    'txt_id': 1,\n",
       "    'text_angle': 0,\n",
       "    'text_size': 0.00159,\n",
       "    'textstring': 'Fire',\n",
       "    'bbox': [-80.32893371582031,\n",
       "     47.95362854003906,\n",
       "     -80.32893371582031,\n",
       "     47.95362854003906]}},\n",
       "  {'type': 'Feature',\n",
       "   'id': 'nyu_2451_36140.2',\n",
       "   'geometry': {'type': 'Point',\n",
       "    'coordinates': [-80.76380157470703, 47.94321823120117, 0]},\n",
       "   'geometry_name': 'geom',\n",
       "   'properties': {'id': 2,\n",
       "    'f_code': 'ZD045',\n",
       "    'f_codedesc': 'Text Description',\n",
       "    'symbol_id': 2,\n",
       "    'tile_id': 1,\n",
       "    'txt_id': 2,\n",
       "    'text_angle': 0,\n",
       "    'text_size': 0.00159,\n",
       "    'textstring': 'Fire',\n",
       "    'bbox': [-80.76380157470703,\n",
       "     47.94321823120117,\n",
       "     -80.76380157470703,\n",
       "     47.94321823120117]}},\n",
       "  {'type': 'Feature',\n",
       "   'id': 'nyu_2451_36140.3',\n",
       "   'geometry': {'type': 'Point',\n",
       "    'coordinates': [-80.96733856201172, 47.84130859374999, 0]},\n",
       "   'geometry_name': 'geom',\n",
       "   'properties': {'id': 3,\n",
       "    'f_code': 'ZD045',\n",
       "    'f_codedesc': 'Text Description',\n",
       "    'symbol_id': 2,\n",
       "    'tile_id': 1,\n",
       "    'txt_id': 3,\n",
       "    'text_angle': 0,\n",
       "    'text_size': 0.00159,\n",
       "    'textstring': 'Fire',\n",
       "    'bbox': [-80.96733856201172,\n",
       "     47.84130859374999,\n",
       "     -80.96733856201172,\n",
       "     47.84130859374999]}},\n",
       "  {'type': 'Feature',\n",
       "   'id': 'nyu_2451_36140.4',\n",
       "   'geometry': {'type': 'Point',\n",
       "    'coordinates': [-81.19950103759766, 47.74726486206055, 0]},\n",
       "   'geometry_name': 'geom',\n",
       "   'properties': {'id': 4,\n",
       "    'f_code': 'ZD045',\n",
       "    'f_codedesc': 'Text Description',\n",
       "    'symbol_id': 2,\n",
       "    'tile_id': 1,\n",
       "    'txt_id': 4,\n",
       "    'text_angle': 0,\n",
       "    'text_size': 0.00159,\n",
       "    'textstring': 'Fire',\n",
       "    'bbox': [-81.19950103759766,\n",
       "     47.74726486206055,\n",
       "     -81.19950103759766,\n",
       "     47.74726486206055]}},\n",
       "  {'type': 'Feature',\n",
       "   'id': 'nyu_2451_36140.5',\n",
       "   'geometry': {'type': 'Point',\n",
       "    'coordinates': [-80.75904083251953, 47.65599060058594, 0]},\n",
       "   'geometry_name': 'geom',\n",
       "   'properties': {'id': 5,\n",
       "    'f_code': 'ZD045',\n",
       "    'f_codedesc': 'Text Description',\n",
       "    'symbol_id': 2,\n",
       "    'tile_id': 1,\n",
       "    'txt_id': 5,\n",
       "    'text_angle': 0,\n",
       "    'text_size': 0.00159,\n",
       "    'textstring': 'Fire',\n",
       "    'bbox': [-80.75904083251953,\n",
       "     47.65599060058594,\n",
       "     -80.75904083251953,\n",
       "     47.65599060058594]}},\n",
       "  {'type': 'Feature',\n",
       "   'id': 'nyu_2451_36140.6',\n",
       "   'geometry': {'type': 'Point',\n",
       "    'coordinates': [-80.41741943359375, 47.64263153076171, 0]},\n",
       "   'geometry_name': 'geom',\n",
       "   'properties': {'id': 6,\n",
       "    'f_code': 'ZD045',\n",
       "    'f_codedesc': 'Text Description',\n",
       "    'symbol_id': 2,\n",
       "    'tile_id': 1,\n",
       "    'txt_id': 6,\n",
       "    'text_angle': 0,\n",
       "    'text_size': 0.00159,\n",
       "    'textstring': 'Fire',\n",
       "    'bbox': [-80.41741943359375,\n",
       "     47.64263153076171,\n",
       "     -80.41741943359375,\n",
       "     47.64263153076171]}},\n",
       "  {'type': 'Feature',\n",
       "   'id': 'nyu_2451_36140.7',\n",
       "   'geometry': {'type': 'Point',\n",
       "    'coordinates': [-81.09060668945311, 47.4403953552246, 0]},\n",
       "   'geometry_name': 'geom',\n",
       "   'properties': {'id': 7,\n",
       "    'f_code': 'ZD045',\n",
       "    'f_codedesc': 'Text Description',\n",
       "    'symbol_id': 2,\n",
       "    'tile_id': 1,\n",
       "    'txt_id': 7,\n",
       "    'text_angle': 0,\n",
       "    'text_size': 0.00159,\n",
       "    'textstring': 'Fire',\n",
       "    'bbox': [-81.09060668945311,\n",
       "     47.4403953552246,\n",
       "     -81.09060668945311,\n",
       "     47.4403953552246]}},\n",
       "  {'type': 'Feature',\n",
       "   'id': 'nyu_2451_36140.8',\n",
       "   'geometry': {'type': 'Point',\n",
       "    'coordinates': [-80.3330612182617, 47.39210510253906, 0]},\n",
       "   'geometry_name': 'geom',\n",
       "   'properties': {'id': 8,\n",
       "    'f_code': 'ZD045',\n",
       "    'f_codedesc': 'Text Description',\n",
       "    'symbol_id': 2,\n",
       "    'tile_id': 1,\n",
       "    'txt_id': 8,\n",
       "    'text_angle': 0,\n",
       "    'text_size': 0.00159,\n",
       "    'textstring': 'Fire',\n",
       "    'bbox': [-80.3330612182617,\n",
       "     47.39210510253906,\n",
       "     -80.3330612182617,\n",
       "     47.39210510253906]}},\n",
       "  {'type': 'Feature',\n",
       "   'id': 'nyu_2451_36140.9',\n",
       "   'geometry': {'type': 'Point',\n",
       "    'coordinates': [-80.7509765625, 47.32029342651367, 0]},\n",
       "   'geometry_name': 'geom',\n",
       "   'properties': {'id': 9,\n",
       "    'f_code': 'ZD045',\n",
       "    'f_codedesc': 'Text Description',\n",
       "    'symbol_id': 2,\n",
       "    'tile_id': 1,\n",
       "    'txt_id': 9,\n",
       "    'text_angle': 0,\n",
       "    'text_size': 0.00159,\n",
       "    'textstring': 'Fire',\n",
       "    'bbox': [-80.7509765625,\n",
       "     47.32029342651367,\n",
       "     -80.7509765625,\n",
       "     47.32029342651367]}},\n",
       "  {'type': 'Feature',\n",
       "   'id': 'nyu_2451_36140.10',\n",
       "   'geometry': {'type': 'Point',\n",
       "    'coordinates': [-80.05905151367188, 47.13967514038085, 0]},\n",
       "   'geometry_name': 'geom',\n",
       "   'properties': {'id': 10,\n",
       "    'f_code': 'ZD045',\n",
       "    'f_codedesc': 'Text Description',\n",
       "    'symbol_id': 2,\n",
       "    'tile_id': 1,\n",
       "    'txt_id': 10,\n",
       "    'text_angle': 0,\n",
       "    'text_size': 0.00159,\n",
       "    'textstring': 'Fire',\n",
       "    'bbox': [-80.05905151367188,\n",
       "     47.13967514038085,\n",
       "     -80.05905151367188,\n",
       "     47.13967514038085]}},\n",
       "  {'type': 'Feature',\n",
       "   'id': 'nyu_2451_36140.11',\n",
       "   'geometry': {'type': 'Point',\n",
       "    'coordinates': [-79.69847869873047, 47.86479187011719, 0]},\n",
       "   'geometry_name': 'geom',\n",
       "   'properties': {'id': 11,\n",
       "    'f_code': 'ZD045',\n",
       "    'f_codedesc': 'Text Description',\n",
       "    'symbol_id': 2,\n",
       "    'tile_id': 2,\n",
       "    'txt_id': 1,\n",
       "    'text_angle': 0,\n",
       "    'text_size': 0.00159,\n",
       "    'textstring': 'Fire',\n",
       "    'bbox': [-79.69847869873047,\n",
       "     47.86479187011719,\n",
       "     -79.69847869873047,\n",
       "     47.86479187011719]}},\n",
       "  {'type': 'Feature',\n",
       "   'id': 'nyu_2451_36140.12',\n",
       "   'geometry': {'type': 'Point',\n",
       "    'coordinates': [-79.90763092041014, 47.51839828491211, 0]},\n",
       "   'geometry_name': 'geom',\n",
       "   'properties': {'id': 12,\n",
       "    'f_code': 'ZD045',\n",
       "    'f_codedesc': 'Text Description',\n",
       "    'symbol_id': 2,\n",
       "    'tile_id': 2,\n",
       "    'txt_id': 2,\n",
       "    'text_angle': 0,\n",
       "    'text_size': 0.00159,\n",
       "    'textstring': 'Fire',\n",
       "    'bbox': [-79.90763092041014,\n",
       "     47.51839828491211,\n",
       "     -79.90763092041014,\n",
       "     47.51839828491211]}},\n",
       "  {'type': 'Feature',\n",
       "   'id': 'nyu_2451_36140.13',\n",
       "   'geometry': {'type': 'Point',\n",
       "    'coordinates': [-79.86328125, 47.275638580322266, 0]},\n",
       "   'geometry_name': 'geom',\n",
       "   'properties': {'id': 13,\n",
       "    'f_code': 'ZD045',\n",
       "    'f_codedesc': 'Text Description',\n",
       "    'symbol_id': 2,\n",
       "    'tile_id': 2,\n",
       "    'txt_id': 3,\n",
       "    'text_angle': 0,\n",
       "    'text_size': 0.00159,\n",
       "    'textstring': 'Fire',\n",
       "    'bbox': [-79.86328125,\n",
       "     47.275638580322266,\n",
       "     -79.86328125,\n",
       "     47.275638580322266]}},\n",
       "  {'type': 'Feature',\n",
       "   'id': 'nyu_2451_36140.14',\n",
       "   'geometry': {'type': 'Point',\n",
       "    'coordinates': [-79.15145111083984, 47.2313346862793, 0]},\n",
       "   'geometry_name': 'geom',\n",
       "   'properties': {'id': 14,\n",
       "    'f_code': 'ZD045',\n",
       "    'f_codedesc': 'Text Description',\n",
       "    'symbol_id': 2,\n",
       "    'tile_id': 2,\n",
       "    'txt_id': 4,\n",
       "    'text_angle': 0,\n",
       "    'text_size': 0.00159,\n",
       "    'textstring': 'Feu',\n",
       "    'bbox': [-79.15145111083984,\n",
       "     47.2313346862793,\n",
       "     -79.15145111083984,\n",
       "     47.2313346862793]}},\n",
       "  {'type': 'Feature',\n",
       "   'id': 'nyu_2451_36140.15',\n",
       "   'geometry': {'type': 'Point',\n",
       "    'coordinates': [-78.79348754882812, 47.094154357910156, 0]},\n",
       "   'geometry_name': 'geom',\n",
       "   'properties': {'id': 15,\n",
       "    'f_code': 'ZD045',\n",
       "    'f_codedesc': 'Text Description',\n",
       "    'symbol_id': 2,\n",
       "    'tile_id': 2,\n",
       "    'txt_id': 5,\n",
       "    'text_angle': 0,\n",
       "    'text_size': 0.00159,\n",
       "    'textstring': 'Feu',\n",
       "    'bbox': [-78.79348754882812,\n",
       "     47.094154357910156,\n",
       "     -78.79348754882812,\n",
       "     47.094154357910156]}},\n",
       "  {'type': 'Feature',\n",
       "   'id': 'nyu_2451_36140.16',\n",
       "   'geometry': {'type': 'Point',\n",
       "    'coordinates': [-79.7754135131836, 47.06299591064453, 0]},\n",
       "   'geometry_name': 'geom',\n",
       "   'properties': {'id': 16,\n",
       "    'f_code': 'ZD045',\n",
       "    'f_codedesc': 'Text Description',\n",
       "    'symbol_id': 2,\n",
       "    'tile_id': 2,\n",
       "    'txt_id': 6,\n",
       "    'text_angle': 0,\n",
       "    'text_size': 0.00159,\n",
       "    'textstring': 'Fire',\n",
       "    'bbox': [-79.7754135131836,\n",
       "     47.06299591064453,\n",
       "     -79.7754135131836,\n",
       "     47.06299591064453]}},\n",
       "  {'type': 'Feature',\n",
       "   'id': 'nyu_2451_36140.17',\n",
       "   'geometry': {'type': 'Point',\n",
       "    'coordinates': [-80.16407775878906, 46.62605667114258, 0]},\n",
       "   'geometry_name': 'geom',\n",
       "   'properties': {'id': 17,\n",
       "    'f_code': 'ZD045',\n",
       "    'f_codedesc': 'Text Description',\n",
       "    'symbol_id': 2,\n",
       "    'tile_id': 9,\n",
       "    'txt_id': 1,\n",
       "    'text_angle': 0,\n",
       "    'text_size': 0.00159,\n",
       "    'textstring': 'Quarry',\n",
       "    'bbox': [-80.16407775878906,\n",
       "     46.62605667114258,\n",
       "     -80.16407775878906,\n",
       "     46.62605667114258]}},\n",
       "  {'type': 'Feature',\n",
       "   'id': 'nyu_2451_36140.18',\n",
       "   'geometry': {'type': 'Point',\n",
       "    'coordinates': [-81.00525665283203, 46.53014373779296, 0]},\n",
       "   'geometry_name': 'geom',\n",
       "   'properties': {'id': 18,\n",
       "    'f_code': 'ZD045',\n",
       "    'f_codedesc': 'Text Description',\n",
       "    'symbol_id': 2,\n",
       "    'tile_id': 9,\n",
       "    'txt_id': 2,\n",
       "    'text_angle': 0,\n",
       "    'text_size': 0.00159,\n",
       "    'textstring': 'Chimney',\n",
       "    'bbox': [-81.00525665283203,\n",
       "     46.53014373779296,\n",
       "     -81.00525665283203,\n",
       "     46.53014373779296]}},\n",
       "  {'type': 'Feature',\n",
       "   'id': 'nyu_2451_36140.19',\n",
       "   'geometry': {'type': 'Point',\n",
       "    'coordinates': [-80.83988189697266, 46.48067092895508, 0]},\n",
       "   'geometry_name': 'geom',\n",
       "   'properties': {'id': 19,\n",
       "    'f_code': 'ZD045',\n",
       "    'f_codedesc': 'Text Description',\n",
       "    'symbol_id': 2,\n",
       "    'tile_id': 9,\n",
       "    'txt_id': 3,\n",
       "    'text_angle': 0,\n",
       "    'text_size': 0.00159,\n",
       "    'textstring': 'Chimney',\n",
       "    'bbox': [-80.83988189697266,\n",
       "     46.48067092895508,\n",
       "     -80.83988189697266,\n",
       "     46.48067092895508]}},\n",
       "  {'type': 'Feature',\n",
       "   'id': 'nyu_2451_36140.20',\n",
       "   'geometry': {'type': 'Point',\n",
       "    'coordinates': [-78.76139068603516, 46.779415130615234, 0]},\n",
       "   'geometry_name': 'geom',\n",
       "   'properties': {'id': 20,\n",
       "    'f_code': 'ZD045',\n",
       "    'f_codedesc': 'Text Description',\n",
       "    'symbol_id': 2,\n",
       "    'tile_id': 10,\n",
       "    'txt_id': 1,\n",
       "    'text_angle': 0,\n",
       "    'text_size': 0.00159,\n",
       "    'textstring': 'Camp de bucherons',\n",
       "    'bbox': [-78.76139068603516,\n",
       "     46.779415130615234,\n",
       "     -78.76139068603516,\n",
       "     46.779415130615234]}},\n",
       "  {'type': 'Feature',\n",
       "   'id': 'nyu_2451_36140.21',\n",
       "   'geometry': {'type': 'Point',\n",
       "    'coordinates': [-79.04402160644531, 46.76914596557617, 0]},\n",
       "   'geometry_name': 'geom',\n",
       "   'properties': {'id': 21,\n",
       "    'f_code': 'ZD045',\n",
       "    'f_codedesc': 'Text Description',\n",
       "    'symbol_id': 2,\n",
       "    'tile_id': 10,\n",
       "    'txt_id': 2,\n",
       "    'text_angle': 0,\n",
       "    'text_size': 0.00159,\n",
       "    'textstring': 'Scierie',\n",
       "    'bbox': [-79.04402160644531,\n",
       "     46.76914596557617,\n",
       "     -79.04402160644531,\n",
       "     46.76914596557617]}},\n",
       "  {'type': 'Feature',\n",
       "   'id': 'nyu_2451_36140.22',\n",
       "   'geometry': {'type': 'Point',\n",
       "    'coordinates': [-78.75006866455078, 46.764808654785156, 0]},\n",
       "   'geometry_name': 'geom',\n",
       "   'properties': {'id': 22,\n",
       "    'f_code': 'ZD045',\n",
       "    'f_codedesc': 'Text Description',\n",
       "    'symbol_id': 2,\n",
       "    'tile_id': 10,\n",
       "    'txt_id': 3,\n",
       "    'text_angle': 0,\n",
       "    'text_size': 0.00159,\n",
       "    'textstring': 'Feu',\n",
       "    'bbox': [-78.75006866455078,\n",
       "     46.764808654785156,\n",
       "     -78.75006866455078,\n",
       "     46.764808654785156]}},\n",
       "  {'type': 'Feature',\n",
       "   'id': 'nyu_2451_36140.23',\n",
       "   'geometry': {'type': 'Point',\n",
       "    'coordinates': [-79.82134246826172, 46.65678405761719, 0]},\n",
       "   'geometry_name': 'geom',\n",
       "   'properties': {'id': 23,\n",
       "    'f_code': 'ZD045',\n",
       "    'f_codedesc': 'Text Description',\n",
       "    'symbol_id': 2,\n",
       "    'tile_id': 10,\n",
       "    'txt_id': 4,\n",
       "    'text_angle': 0,\n",
       "    'text_size': 0.00159,\n",
       "    'textstring': 'Lumber Camp',\n",
       "    'bbox': [-79.82134246826172,\n",
       "     46.65678405761719,\n",
       "     -79.82134246826172,\n",
       "     46.65678405761719]}},\n",
       "  {'type': 'Feature',\n",
       "   'id': 'nyu_2451_36140.24',\n",
       "   'geometry': {'type': 'Point',\n",
       "    'coordinates': [-78.91851043701172, 46.39628982543945, 0]},\n",
       "   'geometry_name': 'geom',\n",
       "   'properties': {'id': 24,\n",
       "    'f_code': 'ZD045',\n",
       "    'f_codedesc': 'Text Description',\n",
       "    'symbol_id': 2,\n",
       "    'tile_id': 10,\n",
       "    'txt_id': 5,\n",
       "    'text_angle': 0,\n",
       "    'text_size': 0.00159,\n",
       "    'textstring': 'FIRE',\n",
       "    'bbox': [-78.91851043701172,\n",
       "     46.39628982543945,\n",
       "     -78.91851043701172,\n",
       "     46.39628982543945]}},\n",
       "  {'type': 'Feature',\n",
       "   'id': 'nyu_2451_36140.25',\n",
       "   'geometry': {'type': 'Point',\n",
       "    'coordinates': [-78.9251022338867, 46.05738449096679, 0]},\n",
       "   'geometry_name': 'geom',\n",
       "   'properties': {'id': 25,\n",
       "    'f_code': 'ZD045',\n",
       "    'f_codedesc': 'Text Description',\n",
       "    'symbol_id': 2,\n",
       "    'tile_id': 10,\n",
       "    'txt_id': 6,\n",
       "    'text_angle': 0,\n",
       "    'text_size': 0.00159,\n",
       "    'textstring': 'Lumber Camp',\n",
       "    'bbox': [-78.9251022338867,\n",
       "     46.05738449096679,\n",
       "     -78.9251022338867,\n",
       "     46.05738449096679]}},\n",
       "  {'type': 'Feature',\n",
       "   'id': 'nyu_2451_36140.26',\n",
       "   'geometry': {'type': 'Point',\n",
       "    'coordinates': [-77.63847351074219, 46.630516052246094, 0]},\n",
       "   'geometry_name': 'geom',\n",
       "   'properties': {'id': 26,\n",
       "    'f_code': 'ZD045',\n",
       "    'f_codedesc': 'Text Description',\n",
       "    'symbol_id': 2,\n",
       "    'tile_id': 11,\n",
       "    'txt_id': 1,\n",
       "    'text_angle': 0,\n",
       "    'text_size': 0.00159,\n",
       "    'textstring': 'Feu',\n",
       "    'bbox': [-77.63847351074219,\n",
       "     46.630516052246094,\n",
       "     -77.63847351074219,\n",
       "     46.630516052246094]}},\n",
       "  {'type': 'Feature',\n",
       "   'id': 'nyu_2451_36140.27',\n",
       "   'geometry': {'type': 'Point',\n",
       "    'coordinates': [-77.7047348022461, 46.3982048034668, 0]},\n",
       "   'geometry_name': 'geom',\n",
       "   'properties': {'id': 27,\n",
       "    'f_code': 'ZD045',\n",
       "    'f_codedesc': 'Text Description',\n",
       "    'symbol_id': 2,\n",
       "    'tile_id': 11,\n",
       "    'txt_id': 2,\n",
       "    'text_angle': 0,\n",
       "    'text_size': 0.00159,\n",
       "    'textstring': 'Feu',\n",
       "    'bbox': [-77.7047348022461,\n",
       "     46.3982048034668,\n",
       "     -77.7047348022461,\n",
       "     46.3982048034668]}},\n",
       "  {'type': 'Feature',\n",
       "   'id': 'nyu_2451_36140.28',\n",
       "   'geometry': {'type': 'Point',\n",
       "    'coordinates': [-76.69391632080078, 46.81489562988281, 0]},\n",
       "   'geometry_name': 'geom',\n",
       "   'properties': {'id': 28,\n",
       "    'f_code': 'ZD045',\n",
       "    'f_codedesc': 'Text Description',\n",
       "    'symbol_id': 2,\n",
       "    'tile_id': 12,\n",
       "    'txt_id': 1,\n",
       "    'text_angle': 0,\n",
       "    'text_size': 0.00159,\n",
       "    'textstring': 'Fosse a ciel ouvert',\n",
       "    'bbox': [-76.69391632080078,\n",
       "     46.81489562988281,\n",
       "     -76.69391632080078,\n",
       "     46.81489562988281]}},\n",
       "  {'type': 'Feature',\n",
       "   'id': 'nyu_2451_36140.29',\n",
       "   'geometry': {'type': 'Point',\n",
       "    'coordinates': [-76.83749389648438, 46.46060562133789, 0]},\n",
       "   'geometry_name': 'geom',\n",
       "   'properties': {'id': 29,\n",
       "    'f_code': 'ZD045',\n",
       "    'f_codedesc': 'Text Description',\n",
       "    'symbol_id': 2,\n",
       "    'tile_id': 12,\n",
       "    'txt_id': 2,\n",
       "    'text_angle': 0,\n",
       "    'text_size': 0.00159,\n",
       "    'textstring': 'Depot de bois',\n",
       "    'bbox': [-76.83749389648438,\n",
       "     46.46060562133789,\n",
       "     -76.83749389648438,\n",
       "     46.46060562133789]}},\n",
       "  {'type': 'Feature',\n",
       "   'id': 'nyu_2451_36140.30',\n",
       "   'geometry': {'type': 'Point',\n",
       "    'coordinates': [-76.67061614990234, 46.23423385620117, 0]},\n",
       "   'geometry_name': 'geom',\n",
       "   'properties': {'id': 30,\n",
       "    'f_code': 'ZD045',\n",
       "    'f_codedesc': 'Text Description',\n",
       "    'symbol_id': 2,\n",
       "    'tile_id': 12,\n",
       "    'txt_id': 3,\n",
       "    'text_angle': 0,\n",
       "    'text_size': 0.00159,\n",
       "    'textstring': 'Depot de bois',\n",
       "    'bbox': [-76.67061614990234,\n",
       "     46.23423385620117,\n",
       "     -76.67061614990234,\n",
       "     46.23423385620117]}},\n",
       "  {'type': 'Feature',\n",
       "   'id': 'nyu_2451_36140.31',\n",
       "   'geometry': {'type': 'Point',\n",
       "    'coordinates': [-76.56245422363281, 46.108760833740234, 0]},\n",
       "   'geometry_name': 'geom',\n",
       "   'properties': {'id': 31,\n",
       "    'f_code': 'ZD045',\n",
       "    'f_codedesc': 'Text Description',\n",
       "    'symbol_id': 2,\n",
       "    'tile_id': 12,\n",
       "    'txt_id': 4,\n",
       "    'text_angle': 0,\n",
       "    'text_size': 0.00159,\n",
       "    'textstring': 'Depot de bois',\n",
       "    'bbox': [-76.56245422363281,\n",
       "     46.108760833740234,\n",
       "     -76.56245422363281,\n",
       "     46.108760833740234]}},\n",
       "  {'type': 'Feature',\n",
       "   'id': 'nyu_2451_36140.32',\n",
       "   'geometry': {'type': 'Point',\n",
       "    'coordinates': [-75.70753479003906, 46.847633361816406, 0]},\n",
       "   'geometry_name': 'geom',\n",
       "   'properties': {'id': 32,\n",
       "    'f_code': 'ZD045',\n",
       "    'f_codedesc': 'Text Description',\n",
       "    'symbol_id': 2,\n",
       "    'tile_id': 13,\n",
       "    'txt_id': 1,\n",
       "    'text_angle': 0,\n",
       "    'text_size': 0.00159,\n",
       "    'textstring': 'Belvedere',\n",
       "    'bbox': [-75.70753479003906,\n",
       "     46.847633361816406,\n",
       "     -75.70753479003906,\n",
       "     46.847633361816406]}},\n",
       "  {'type': 'Feature',\n",
       "   'id': 'nyu_2451_36140.33',\n",
       "   'geometry': {'type': 'Point',\n",
       "    'coordinates': [-74.14190673828125, 46.25650405883789, 0]},\n",
       "   'geometry_name': 'geom',\n",
       "   'properties': {'id': 33,\n",
       "    'f_code': 'ZD045',\n",
       "    'f_codedesc': 'Text Description',\n",
       "    'symbol_id': 2,\n",
       "    'tile_id': 14,\n",
       "    'txt_id': 1,\n",
       "    'text_angle': 0,\n",
       "    'text_size': 0.00159,\n",
       "    'textstring': 'Belvedere',\n",
       "    'bbox': [-74.14190673828125,\n",
       "     46.25650405883789,\n",
       "     -74.14190673828125,\n",
       "     46.25650405883789]}},\n",
       "  {'type': 'Feature',\n",
       "   'id': 'nyu_2451_36140.34',\n",
       "   'geometry': {'type': 'Point',\n",
       "    'coordinates': [-71.53378295898438, 45.362274169921875, 0]},\n",
       "   'geometry_name': 'geom',\n",
       "   'properties': {'id': 34,\n",
       "    'f_code': 'ZD045',\n",
       "    'f_codedesc': 'Text Description',\n",
       "    'symbol_id': 2,\n",
       "    'tile_id': 24,\n",
       "    'txt_id': 1,\n",
       "    'text_angle': 0,\n",
       "    'text_size': 0.00159,\n",
       "    'textstring': 'Meteorologique',\n",
       "    'bbox': [-71.53378295898438,\n",
       "     45.362274169921875,\n",
       "     -71.53378295898438,\n",
       "     45.362274169921875]}},\n",
       "  {'type': 'Feature',\n",
       "   'id': 'nyu_2451_36140.35',\n",
       "   'geometry': {'type': 'Point',\n",
       "    'coordinates': [-80.64537811279295, 44.669979095458984, 0]},\n",
       "   'geometry_name': 'geom',\n",
       "   'properties': {'id': 35,\n",
       "    'f_code': 'ZD045',\n",
       "    'f_codedesc': 'Text Description',\n",
       "    'symbol_id': 2,\n",
       "    'tile_id': 25,\n",
       "    'txt_id': 1,\n",
       "    'text_angle': 0,\n",
       "    'text_size': 0.00159,\n",
       "    'textstring': 'Water',\n",
       "    'bbox': [-80.64537811279295,\n",
       "     44.669979095458984,\n",
       "     -80.64537811279295,\n",
       "     44.669979095458984]}},\n",
       "  {'type': 'Feature',\n",
       "   'id': 'nyu_2451_36140.36',\n",
       "   'geometry': {'type': 'Point',\n",
       "    'coordinates': [-81.14420318603516, 44.48267364501953, 0]},\n",
       "   'geometry_name': 'geom',\n",
       "   'properties': {'id': 36,\n",
       "    'f_code': 'ZD045',\n",
       "    'f_codedesc': 'Text Description',\n",
       "    'symbol_id': 2,\n",
       "    'tile_id': 25,\n",
       "    'txt_id': 2,\n",
       "    'text_angle': 0,\n",
       "    'text_size': 0.001691,\n",
       "    'textstring': 'Water',\n",
       "    'bbox': [-81.14420318603516,\n",
       "     44.48267364501953,\n",
       "     -81.14420318603516,\n",
       "     44.48267364501953]}},\n",
       "  {'type': 'Feature',\n",
       "   'id': 'nyu_2451_36140.37',\n",
       "   'geometry': {'type': 'Point',\n",
       "    'coordinates': [-77.27941131591797, 44.161930084228516, 0]},\n",
       "   'geometry_name': 'geom',\n",
       "   'properties': {'id': 37,\n",
       "    'f_code': 'ZD045',\n",
       "    'f_codedesc': 'Text Description',\n",
       "    'symbol_id': 2,\n",
       "    'tile_id': 28,\n",
       "    'txt_id': 1,\n",
       "    'text_angle': 0,\n",
       "    'text_size': 0.00159,\n",
       "    'textstring': 'Cement Works',\n",
       "    'bbox': [-77.27941131591797,\n",
       "     44.161930084228516,\n",
       "     -77.27941131591797,\n",
       "     44.161930084228516]}},\n",
       "  {'type': 'Feature',\n",
       "   'id': 'nyu_2451_36140.38',\n",
       "   'geometry': {'type': 'Point',\n",
       "    'coordinates': [-77.14013671875, 44.04627609252929, 0]},\n",
       "   'geometry_name': 'geom',\n",
       "   'properties': {'id': 38,\n",
       "    'f_code': 'ZD045',\n",
       "    'f_codedesc': 'Text Description',\n",
       "    'symbol_id': 2,\n",
       "    'tile_id': 28,\n",
       "    'txt_id': 2,\n",
       "    'text_angle': 0,\n",
       "    'text_size': 0.00159,\n",
       "    'textstring': 'Cement Works',\n",
       "    'bbox': [-77.14013671875,\n",
       "     44.04627609252929,\n",
       "     -77.14013671875,\n",
       "     44.04627609252929]}},\n",
       "  {'type': 'Feature',\n",
       "   'id': 'nyu_2451_36140.39',\n",
       "   'geometry': {'type': 'Point',\n",
       "    'coordinates': [-81.19624328613281, 43.24410629272461, 0]},\n",
       "   'geometry_name': 'geom',\n",
       "   'properties': {'id': 39,\n",
       "    'f_code': 'ZD045',\n",
       "    'f_codedesc': 'Text Description',\n",
       "    'symbol_id': 2,\n",
       "    'tile_id': 33,\n",
       "    'txt_id': 1,\n",
       "    'text_angle': 0,\n",
       "    'text_size': 0.00159,\n",
       "    'textstring': 'Water Tower',\n",
       "    'bbox': [-81.19624328613281,\n",
       "     43.24410629272461,\n",
       "     -81.19624328613281,\n",
       "     43.24410629272461]}},\n",
       "  {'type': 'Feature',\n",
       "   'id': 'nyu_2451_36140.40',\n",
       "   'geometry': {'type': 'Point',\n",
       "    'coordinates': [-77.86106872558594, 43.23585510253906, 0]},\n",
       "   'geometry_name': 'geom',\n",
       "   'properties': {'id': 40,\n",
       "    'f_code': 'ZD045',\n",
       "    'f_codedesc': 'Text Description',\n",
       "    'symbol_id': 2,\n",
       "    'tile_id': 35,\n",
       "    'txt_id': 1,\n",
       "    'text_angle': 0,\n",
       "    'text_size': 0.00159,\n",
       "    'textstring': 'Towers',\n",
       "    'bbox': [-77.86106872558594,\n",
       "     43.23585510253906,\n",
       "     -77.86106872558594,\n",
       "     43.23585510253906]}},\n",
       "  {'type': 'Feature',\n",
       "   'id': 'nyu_2451_36140.41',\n",
       "   'geometry': {'type': 'Point',\n",
       "    'coordinates': [-80.58649444580078, 42.981876373291016, 0]},\n",
       "   'geometry_name': 'geom',\n",
       "   'properties': {'id': 41,\n",
       "    'f_code': 'ZD045',\n",
       "    'f_codedesc': 'Text Description',\n",
       "    'symbol_id': 2,\n",
       "    'tile_id': 41,\n",
       "    'txt_id': 1,\n",
       "    'text_angle': 0,\n",
       "    'text_size': 0.00159,\n",
       "    'textstring': 'WASTE',\n",
       "    'bbox': [-80.58649444580078,\n",
       "     42.981876373291016,\n",
       "     -80.58649444580078,\n",
       "     42.981876373291016]}},\n",
       "  {'type': 'Feature',\n",
       "   'id': 'nyu_2451_36140.42',\n",
       "   'geometry': {'type': 'Point',\n",
       "    'coordinates': [-80.27041625976562, 42.933540344238274, 0]},\n",
       "   'geometry_name': 'geom',\n",
       "   'properties': {'id': 42,\n",
       "    'f_code': 'ZD045',\n",
       "    'f_codedesc': 'Text Description',\n",
       "    'symbol_id': 2,\n",
       "    'tile_id': 41,\n",
       "    'txt_id': 2,\n",
       "    'text_angle': 0,\n",
       "    'text_size': 0.00159,\n",
       "    'textstring': 'WASTE',\n",
       "    'bbox': [-80.27041625976562,\n",
       "     42.933540344238274,\n",
       "     -80.27041625976562,\n",
       "     42.933540344238274]}},\n",
       "  {'type': 'Feature',\n",
       "   'id': 'nyu_2451_36140.43',\n",
       "   'geometry': {'type': 'Point',\n",
       "    'coordinates': [-80.15747833251953, 42.880134582519524, 0]},\n",
       "   'geometry_name': 'geom',\n",
       "   'properties': {'id': 43,\n",
       "    'f_code': 'ZD045',\n",
       "    'f_codedesc': 'Text Description',\n",
       "    'symbol_id': 2,\n",
       "    'tile_id': 41,\n",
       "    'txt_id': 3,\n",
       "    'text_angle': 0,\n",
       "    'text_size': 0.00159,\n",
       "    'textstring': 'WASTE',\n",
       "    'bbox': [-80.15747833251953,\n",
       "     42.880134582519524,\n",
       "     -80.15747833251953,\n",
       "     42.880134582519524]}},\n",
       "  {'type': 'Feature',\n",
       "   'id': 'nyu_2451_36140.44',\n",
       "   'geometry': {'type': 'Point',\n",
       "    'coordinates': [-80.10552215576172, 42.876216888427734, 0]},\n",
       "   'geometry_name': 'geom',\n",
       "   'properties': {'id': 44,\n",
       "    'f_code': 'ZD045',\n",
       "    'f_codedesc': 'Text Description',\n",
       "    'symbol_id': 2,\n",
       "    'tile_id': 41,\n",
       "    'txt_id': 4,\n",
       "    'text_angle': 0,\n",
       "    'text_size': 0.00159,\n",
       "    'textstring': 'WASTE',\n",
       "    'bbox': [-80.10552215576172,\n",
       "     42.876216888427734,\n",
       "     -80.10552215576172,\n",
       "     42.876216888427734]}},\n",
       "  {'type': 'Feature',\n",
       "   'id': 'nyu_2451_36140.45',\n",
       "   'geometry': {'type': 'Point',\n",
       "    'coordinates': [-81.09622192382811, 42.86811447143555, 0]},\n",
       "   'geometry_name': 'geom',\n",
       "   'properties': {'id': 45,\n",
       "    'f_code': 'ZD045',\n",
       "    'f_codedesc': 'Text Description',\n",
       "    'symbol_id': 2,\n",
       "    'tile_id': 41,\n",
       "    'txt_id': 5,\n",
       "    'text_angle': 0,\n",
       "    'text_size': 0.00159,\n",
       "    'textstring': 'WASTE',\n",
       "    'bbox': [-81.09622192382811,\n",
       "     42.86811447143555,\n",
       "     -81.09622192382811,\n",
       "     42.86811447143555]}},\n",
       "  {'type': 'Feature',\n",
       "   'id': 'nyu_2451_36140.46',\n",
       "   'geometry': {'type': 'Point',\n",
       "    'coordinates': [-80.11080169677734, 42.82310485839843, 0]},\n",
       "   'geometry_name': 'geom',\n",
       "   'properties': {'id': 46,\n",
       "    'f_code': 'ZD045',\n",
       "    'f_codedesc': 'Text Description',\n",
       "    'symbol_id': 2,\n",
       "    'tile_id': 41,\n",
       "    'txt_id': 6,\n",
       "    'text_angle': 0,\n",
       "    'text_size': 0.00159,\n",
       "    'textstring': 'WASTE',\n",
       "    'bbox': [-80.11080169677734,\n",
       "     42.82310485839843,\n",
       "     -80.11080169677734,\n",
       "     42.82310485839843]}},\n",
       "  {'type': 'Feature',\n",
       "   'id': 'nyu_2451_36140.47',\n",
       "   'geometry': {'type': 'Point',\n",
       "    'coordinates': [-80.0407943725586, 42.809814453125, 0]},\n",
       "   'geometry_name': 'geom',\n",
       "   'properties': {'id': 47,\n",
       "    'f_code': 'ZD045',\n",
       "    'f_codedesc': 'Text Description',\n",
       "    'symbol_id': 2,\n",
       "    'tile_id': 41,\n",
       "    'txt_id': 7,\n",
       "    'text_angle': 0,\n",
       "    'text_size': 0.00159,\n",
       "    'textstring': 'WASTE',\n",
       "    'bbox': [-80.0407943725586,\n",
       "     42.809814453125,\n",
       "     -80.0407943725586,\n",
       "     42.809814453125]}},\n",
       "  {'type': 'Feature',\n",
       "   'id': 'nyu_2451_36140.48',\n",
       "   'geometry': {'type': 'Point',\n",
       "    'coordinates': [-80.2096176147461, 42.79698181152344, 0]},\n",
       "   'geometry_name': 'geom',\n",
       "   'properties': {'id': 48,\n",
       "    'f_code': 'ZD045',\n",
       "    'f_codedesc': 'Text Description',\n",
       "    'symbol_id': 2,\n",
       "    'tile_id': 41,\n",
       "    'txt_id': 8,\n",
       "    'text_angle': 0,\n",
       "    'text_size': 0.00159,\n",
       "    'textstring': 'WATER',\n",
       "    'bbox': [-80.2096176147461,\n",
       "     42.79698181152344,\n",
       "     -80.2096176147461,\n",
       "     42.79698181152344]}},\n",
       "  {'type': 'Feature',\n",
       "   'id': 'nyu_2451_36140.49',\n",
       "   'geometry': {'type': 'Point',\n",
       "    'coordinates': [-80.14167785644531, 42.793411254882805, 0]},\n",
       "   'geometry_name': 'geom',\n",
       "   'properties': {'id': 49,\n",
       "    'f_code': 'ZD045',\n",
       "    'f_codedesc': 'Text Description',\n",
       "    'symbol_id': 2,\n",
       "    'tile_id': 41,\n",
       "    'txt_id': 9,\n",
       "    'text_angle': 0,\n",
       "    'text_size': 0.00159,\n",
       "    'textstring': 'WASTE',\n",
       "    'bbox': [-80.14167785644531,\n",
       "     42.793411254882805,\n",
       "     -80.14167785644531,\n",
       "     42.793411254882805]}},\n",
       "  {'type': 'Feature',\n",
       "   'id': 'nyu_2451_36140.50',\n",
       "   'geometry': {'type': 'Point',\n",
       "    'coordinates': [-80.08753204345702, 42.79227828979492, 0]},\n",
       "   'geometry_name': 'geom',\n",
       "   'properties': {'id': 50,\n",
       "    'f_code': 'ZD045',\n",
       "    'f_codedesc': 'Text Description',\n",
       "    'symbol_id': 2,\n",
       "    'tile_id': 41,\n",
       "    'txt_id': 10,\n",
       "    'text_angle': 0,\n",
       "    'text_size': 0.00159,\n",
       "    'textstring': 'WASTE',\n",
       "    'bbox': [-80.08753204345702,\n",
       "     42.79227828979492,\n",
       "     -80.08753204345702,\n",
       "     42.79227828979492]}},\n",
       "  {'type': 'Feature',\n",
       "   'id': 'nyu_2451_36140.51',\n",
       "   'geometry': {'type': 'Point',\n",
       "    'coordinates': [-81.0181884765625, 42.782466888427734, 0]},\n",
       "   'geometry_name': 'geom',\n",
       "   'properties': {'id': 51,\n",
       "    'f_code': 'ZD045',\n",
       "    'f_codedesc': 'Text Description',\n",
       "    'symbol_id': 2,\n",
       "    'tile_id': 41,\n",
       "    'txt_id': 11,\n",
       "    'text_angle': 0,\n",
       "    'text_size': 0.00159,\n",
       "    'textstring': 'WASTE',\n",
       "    'bbox': [-81.0181884765625,\n",
       "     42.782466888427734,\n",
       "     -81.0181884765625,\n",
       "     42.782466888427734]}},\n",
       "  {'type': 'Feature',\n",
       "   'id': 'nyu_2451_36140.52',\n",
       "   'geometry': {'type': 'Point',\n",
       "    'coordinates': [-80.48858642578124, 42.62120056152343, 0]},\n",
       "   'geometry_name': 'geom',\n",
       "   'properties': {'id': 52,\n",
       "    'f_code': 'ZD045',\n",
       "    'f_codedesc': 'Text Description',\n",
       "    'symbol_id': 2,\n",
       "    'tile_id': 41,\n",
       "    'txt_id': 12,\n",
       "    'text_angle': 0,\n",
       "    'text_size': 0.00159,\n",
       "    'textstring': 'WASTE',\n",
       "    'bbox': [-80.48858642578124,\n",
       "     42.62120056152343,\n",
       "     -80.48858642578124,\n",
       "     42.62120056152343]}}],\n",
       " 'crs': {'type': 'name', 'properties': {'name': 'urn:ogc:def:crs:EPSG::4326'}},\n",
       " 'bbox': [-81.2347869873047,\n",
       "  42.5945358276367,\n",
       "  -74.1066207885742,\n",
       "  47.9802894592285]}"
      ]
     },
     "execution_count": 11,
     "metadata": {},
     "output_type": "execute_result"
    }
   ],
   "source": [
    "Geospatial_Coordinates"
   ]
  },
  {
   "cell_type": "markdown",
   "metadata": {},
   "source": [
    "Notice how all the relevant data is in the *features* key, which is basically a list of the neighborhoods. So, let's define a new variable that includes this data."
   ]
  },
  {
   "cell_type": "code",
   "execution_count": 3,
   "metadata": {},
   "outputs": [],
   "source": [
    "neighborhoods_data = Geospatial_Coordinates['features']"
   ]
  },
  {
   "cell_type": "markdown",
   "metadata": {},
   "source": [
    "Let's take a look at the first item in this list."
   ]
  },
  {
   "cell_type": "code",
   "execution_count": 4,
   "metadata": {
    "jupyter": {
     "outputs_hidden": false
    }
   },
   "outputs": [
    {
     "data": {
      "text/plain": [
       "{'type': 'Feature',\n",
       " 'id': 'nyu_2451_36140.1',\n",
       " 'geometry': {'type': 'Point',\n",
       "  'coordinates': [-80.32893371582031, 47.95362854003906, 0]},\n",
       " 'geometry_name': 'geom',\n",
       " 'properties': {'id': 1,\n",
       "  'f_code': 'ZD045',\n",
       "  'f_codedesc': 'Text Description',\n",
       "  'symbol_id': 2,\n",
       "  'tile_id': 1,\n",
       "  'txt_id': 1,\n",
       "  'text_angle': 0,\n",
       "  'text_size': 0.00159,\n",
       "  'textstring': 'Fire',\n",
       "  'bbox': [-80.32893371582031,\n",
       "   47.95362854003906,\n",
       "   -80.32893371582031,\n",
       "   47.95362854003906]}}"
      ]
     },
     "execution_count": 4,
     "metadata": {},
     "output_type": "execute_result"
    }
   ],
   "source": [
    "neighborhoods_data[0]"
   ]
  },
  {
   "cell_type": "markdown",
   "metadata": {},
   "source": [
    "#### Tranform the data into a *pandas* dataframe"
   ]
  },
  {
   "cell_type": "markdown",
   "metadata": {},
   "source": [
    "The next task is essentially transforming this data of nested Python dictionaries into a *pandas* dataframe. So let's start by creating an empty dataframe."
   ]
  },
  {
   "cell_type": "code",
   "execution_count": 5,
   "metadata": {},
   "outputs": [],
   "source": [
    "# define the dataframe columns\n",
    "column_names = ['Borough', 'Neighborhood', 'Latitude', 'Longitude'] \n",
    "\n",
    "# instantiate the dataframe\n",
    "neighborhoods = pd.DataFrame(columns=column_names)"
   ]
  },
  {
   "cell_type": "markdown",
   "metadata": {},
   "source": [
    "Take a look at the empty dataframe to confirm that the columns are as intended."
   ]
  },
  {
   "cell_type": "code",
   "execution_count": 6,
   "metadata": {
    "jupyter": {
     "outputs_hidden": false
    }
   },
   "outputs": [
    {
     "data": {
      "text/html": [
       "<div>\n",
       "<style scoped>\n",
       "    .dataframe tbody tr th:only-of-type {\n",
       "        vertical-align: middle;\n",
       "    }\n",
       "\n",
       "    .dataframe tbody tr th {\n",
       "        vertical-align: top;\n",
       "    }\n",
       "\n",
       "    .dataframe thead th {\n",
       "        text-align: right;\n",
       "    }\n",
       "</style>\n",
       "<table border=\"1\" class=\"dataframe\">\n",
       "  <thead>\n",
       "    <tr style=\"text-align: right;\">\n",
       "      <th></th>\n",
       "      <th>Borough</th>\n",
       "      <th>Neighborhood</th>\n",
       "      <th>Latitude</th>\n",
       "      <th>Longitude</th>\n",
       "    </tr>\n",
       "  </thead>\n",
       "  <tbody>\n",
       "  </tbody>\n",
       "</table>\n",
       "</div>"
      ],
      "text/plain": [
       "Empty DataFrame\n",
       "Columns: [Borough, Neighborhood, Latitude, Longitude]\n",
       "Index: []"
      ]
     },
     "execution_count": 6,
     "metadata": {},
     "output_type": "execute_result"
    }
   ],
   "source": [
    "neighborhoods"
   ]
  },
  {
   "cell_type": "markdown",
   "metadata": {},
   "source": [
    "Then let's loop through the data and fill the dataframe one row at a time."
   ]
  },
  {
   "cell_type": "code",
   "execution_count": 19,
   "metadata": {
    "jupyter": {
     "outputs_hidden": false
    }
   },
   "outputs": [
    {
     "ename": "KeyError",
     "evalue": "'borough'",
     "output_type": "error",
     "traceback": [
      "\u001b[0;31m---------------------------------------------------------------------------\u001b[0m",
      "\u001b[0;31mKeyError\u001b[0m                                  Traceback (most recent call last)",
      "\u001b[0;32m<ipython-input-19-7b05910cac3c>\u001b[0m in \u001b[0;36m<module>\u001b[0;34m\u001b[0m\n\u001b[1;32m      1\u001b[0m \u001b[0;32mfor\u001b[0m \u001b[0mdata\u001b[0m \u001b[0;32min\u001b[0m \u001b[0mneighborhoods_data\u001b[0m\u001b[0;34m:\u001b[0m\u001b[0;34m\u001b[0m\u001b[0;34m\u001b[0m\u001b[0m\n\u001b[0;32m----> 2\u001b[0;31m     \u001b[0mborough\u001b[0m \u001b[0;34m=\u001b[0m \u001b[0mneighborhood_name\u001b[0m \u001b[0;34m=\u001b[0m \u001b[0mdata\u001b[0m\u001b[0;34m[\u001b[0m\u001b[0;34m'properties'\u001b[0m\u001b[0;34m]\u001b[0m\u001b[0;34m[\u001b[0m\u001b[0;34m'borough'\u001b[0m\u001b[0;34m]\u001b[0m\u001b[0;34m\u001b[0m\u001b[0;34m\u001b[0m\u001b[0m\n\u001b[0m\u001b[1;32m      3\u001b[0m     \u001b[0mneighborhood_name\u001b[0m \u001b[0;34m=\u001b[0m \u001b[0mdata\u001b[0m\u001b[0;34m[\u001b[0m\u001b[0;34m'properties'\u001b[0m\u001b[0;34m]\u001b[0m\u001b[0;34m[\u001b[0m\u001b[0;34m'name'\u001b[0m\u001b[0;34m]\u001b[0m\u001b[0;34m\u001b[0m\u001b[0;34m\u001b[0m\u001b[0m\n\u001b[1;32m      4\u001b[0m \u001b[0;34m\u001b[0m\u001b[0m\n\u001b[1;32m      5\u001b[0m     \u001b[0mneighborhood_latlon\u001b[0m \u001b[0;34m=\u001b[0m \u001b[0mdata\u001b[0m\u001b[0;34m[\u001b[0m\u001b[0;34m'geometry'\u001b[0m\u001b[0;34m]\u001b[0m\u001b[0;34m[\u001b[0m\u001b[0;34m'coordinates'\u001b[0m\u001b[0;34m]\u001b[0m\u001b[0;34m\u001b[0m\u001b[0;34m\u001b[0m\u001b[0m\n",
      "\u001b[0;31mKeyError\u001b[0m: 'borough'"
     ]
    }
   ],
   "source": [
    "for data in neighborhoods_data:\n",
    "    borough = neighborhood_name = data['properties']['borough'] \n",
    "    neighborhood_name = data['properties']['name']\n",
    "        \n",
    "    neighborhood_latlon = data['geometry']['coordinates']\n",
    "    neighborhood_lat = neighborhood_latlon[1]\n",
    "    neighborhood_lon = neighborhood_latlon[0]\n",
    "    \n",
    "    neighborhoods = neighborhoods.append({'Borough': borough,\n",
    "                                          'Neighborhood': neighborhood_name,\n",
    "                                          'Latitude': neighborhood_lat,\n",
    "                                          'Longitude': neighborhood_lon}, ignore_index=True)"
   ]
  },
  {
   "cell_type": "markdown",
   "metadata": {},
   "source": [
    "Quickly examine the resulting dataframe."
   ]
  },
  {
   "cell_type": "code",
   "execution_count": 9,
   "metadata": {
    "jupyter": {
     "outputs_hidden": false
    },
    "scrolled": true
   },
   "outputs": [
    {
     "data": {
      "text/html": [
       "<div>\n",
       "<style scoped>\n",
       "    .dataframe tbody tr th:only-of-type {\n",
       "        vertical-align: middle;\n",
       "    }\n",
       "\n",
       "    .dataframe tbody tr th {\n",
       "        vertical-align: top;\n",
       "    }\n",
       "\n",
       "    .dataframe thead th {\n",
       "        text-align: right;\n",
       "    }\n",
       "</style>\n",
       "<table border=\"1\" class=\"dataframe\">\n",
       "  <thead>\n",
       "    <tr style=\"text-align: right;\">\n",
       "      <th></th>\n",
       "      <th>Borough</th>\n",
       "      <th>Neighborhood</th>\n",
       "      <th>Latitude</th>\n",
       "      <th>Longitude</th>\n",
       "    </tr>\n",
       "  </thead>\n",
       "  <tbody>\n",
       "  </tbody>\n",
       "</table>\n",
       "</div>"
      ],
      "text/plain": [
       "Empty DataFrame\n",
       "Columns: [Borough, Neighborhood, Latitude, Longitude]\n",
       "Index: []"
      ]
     },
     "execution_count": 9,
     "metadata": {},
     "output_type": "execute_result"
    }
   ],
   "source": [
    "neighborhoods.head()"
   ]
  },
  {
   "cell_type": "markdown",
   "metadata": {},
   "source": [
    "And make sure that the dataset has all 5 boroughs and 306 neighborhoods."
   ]
  },
  {
   "cell_type": "code",
   "execution_count": 14,
   "metadata": {
    "jupyter": {
     "outputs_hidden": false
    }
   },
   "outputs": [
    {
     "name": "stdout",
     "output_type": "stream",
     "text": [
      "The dataframe has 5 boroughs and 306 neighborhoods.\n"
     ]
    }
   ],
   "source": [
    "print('The dataframe has {} boroughs and {} neighborhoods.'.format(\n",
    "        len(neighborhoods['Borough'].unique()),\n",
    "        neighborhoods.shape[0]\n",
    "    )\n",
    ")"
   ]
  },
  {
   "cell_type": "markdown",
   "metadata": {},
   "source": [
    "#### Use geopy library to get the latitude and longitude values of New York City."
   ]
  },
  {
   "cell_type": "markdown",
   "metadata": {},
   "source": [
    "In order to define an instance of the geocoder, we need to define a user_agent. We will name our agent <em>ny_explorer</em>, as shown below."
   ]
  },
  {
   "cell_type": "code",
   "execution_count": 27,
   "metadata": {
    "jupyter": {
     "outputs_hidden": false
    },
    "scrolled": true
   },
   "outputs": [
    {
     "name": "stdout",
     "output_type": "stream",
     "text": [
      "The geograpical coordinate of New York City are 40.7127281, -74.0060152.\n"
     ]
    }
   ],
   "source": [
    "address = 'New York City, NY'\n",
    "\n",
    "geolocator = Nominatim(user_agent=\"ny_explorer\")\n",
    "location = geolocator.geocode(address)\n",
    "latitude = location.latitude\n",
    "longitude = location.longitude\n",
    "print('The geograpical coordinate of New York City are {}, {}.'.format(latitude, longitude))"
   ]
  },
  {
   "cell_type": "markdown",
   "metadata": {},
   "source": [
    "#### Create a map of New York with neighborhoods superimposed on top."
   ]
  },
  {
   "cell_type": "code",
   "execution_count": 28,
   "metadata": {
    "jupyter": {
     "outputs_hidden": false
    }
   },
   "outputs": [
    {
     "data": {
      "text/html": [
       "<div style=\"width:100%;\"><div style=\"position:relative;width:100%;height:0;padding-bottom:60%;\"><iframe src=\"about:blank\" style=\"position:absolute;width:100%;height:100%;left:0;top:0;border:none !important;\" data-html=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 onload=\"this.contentDocument.open();this.contentDocument.write(atob(this.getAttribute('data-html')));this.contentDocument.close();\" allowfullscreen webkitallowfullscreen mozallowfullscreen></iframe></div></div>"
      ],
      "text/plain": [
       "<folium.folium.Map at 0x7f8a603561d0>"
      ]
     },
     "execution_count": 28,
     "metadata": {},
     "output_type": "execute_result"
    }
   ],
   "source": [
    "# create map of New York using latitude and longitude values\n",
    "map_newyork = folium.Map(location=[latitude, longitude], zoom_start=10)\n",
    "\n",
    "# add markers to map\n",
    "for lat, lng, borough, neighborhood in zip(neighborhoods['Latitude'], neighborhoods['Longitude'], neighborhoods['Borough'], neighborhoods['Neighborhood']):\n",
    "    label = '{}, {}'.format(neighborhood, borough)\n",
    "    label = folium.Popup(label, parse_html=True)\n",
    "    folium.CircleMarker(\n",
    "        [lat, lng],\n",
    "        radius=5,\n",
    "        popup=label,\n",
    "        color='blue',\n",
    "        fill=True,\n",
    "        fill_color='#3186cc',\n",
    "        fill_opacity=0.7,\n",
    "        parse_html=False).add_to(map_newyork)  \n",
    "    \n",
    "map_newyork"
   ]
  },
  {
   "cell_type": "markdown",
   "metadata": {},
   "source": [
    "**Folium** is a great visualization library. Feel free to zoom into the above map, and click on each circle mark to reveal the name of the neighborhood and its respective borough."
   ]
  },
  {
   "cell_type": "markdown",
   "metadata": {},
   "source": [
    "However, for illustration purposes, let's simplify the above map and segment and cluster only the neighborhoods in Manhattan. So let's slice the original dataframe and create a new dataframe of the Manhattan data."
   ]
  },
  {
   "cell_type": "code",
   "execution_count": 29,
   "metadata": {
    "jupyter": {
     "outputs_hidden": false
    }
   },
   "outputs": [
    {
     "data": {
      "text/html": [
       "<div>\n",
       "<style scoped>\n",
       "    .dataframe tbody tr th:only-of-type {\n",
       "        vertical-align: middle;\n",
       "    }\n",
       "\n",
       "    .dataframe tbody tr th {\n",
       "        vertical-align: top;\n",
       "    }\n",
       "\n",
       "    .dataframe thead th {\n",
       "        text-align: right;\n",
       "    }\n",
       "</style>\n",
       "<table border=\"1\" class=\"dataframe\">\n",
       "  <thead>\n",
       "    <tr style=\"text-align: right;\">\n",
       "      <th></th>\n",
       "      <th>Borough</th>\n",
       "      <th>Neighborhood</th>\n",
       "      <th>Latitude</th>\n",
       "      <th>Longitude</th>\n",
       "    </tr>\n",
       "  </thead>\n",
       "  <tbody>\n",
       "  </tbody>\n",
       "</table>\n",
       "</div>"
      ],
      "text/plain": [
       "Empty DataFrame\n",
       "Columns: [Borough, Neighborhood, Latitude, Longitude]\n",
       "Index: []"
      ]
     },
     "execution_count": 29,
     "metadata": {},
     "output_type": "execute_result"
    }
   ],
   "source": [
    "manhattan_data = neighborhoods[neighborhoods['Borough'] == 'Manhattan'].reset_index(drop=True)\n",
    "manhattan_data.head()"
   ]
  },
  {
   "cell_type": "markdown",
   "metadata": {},
   "source": [
    "Let's get the geographical coordinates of Manhattan."
   ]
  },
  {
   "cell_type": "code",
   "execution_count": 30,
   "metadata": {
    "jupyter": {
     "outputs_hidden": false
    }
   },
   "outputs": [
    {
     "name": "stdout",
     "output_type": "stream",
     "text": [
      "The geograpical coordinate of Manhattan are 40.7896239, -73.9598939.\n"
     ]
    }
   ],
   "source": [
    "address = 'Manhattan, NY'\n",
    "\n",
    "geolocator = Nominatim(user_agent=\"ny_explorer\")\n",
    "location = geolocator.geocode(address)\n",
    "latitude = location.latitude\n",
    "longitude = location.longitude\n",
    "print('The geograpical coordinate of Manhattan are {}, {}.'.format(latitude, longitude))"
   ]
  },
  {
   "cell_type": "markdown",
   "metadata": {},
   "source": [
    "As we did with all of New York City, let's visualizat Manhattan the neighborhoods in it."
   ]
  },
  {
   "cell_type": "code",
   "execution_count": 31,
   "metadata": {
    "jupyter": {
     "outputs_hidden": false
    }
   },
   "outputs": [
    {
     "data": {
      "text/html": [
       "<div style=\"width:100%;\"><div style=\"position:relative;width:100%;height:0;padding-bottom:60%;\"><iframe src=\"about:blank\" style=\"position:absolute;width:100%;height:100%;left:0;top:0;border:none !important;\" data-html=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 onload=\"this.contentDocument.open();this.contentDocument.write(atob(this.getAttribute('data-html')));this.contentDocument.close();\" allowfullscreen webkitallowfullscreen mozallowfullscreen></iframe></div></div>"
      ],
      "text/plain": [
       "<folium.folium.Map at 0x7f8a60362890>"
      ]
     },
     "execution_count": 31,
     "metadata": {},
     "output_type": "execute_result"
    }
   ],
   "source": [
    "# create map of Manhattan using latitude and longitude values\n",
    "map_manhattan = folium.Map(location=[latitude, longitude], zoom_start=11)\n",
    "\n",
    "# add markers to map\n",
    "for lat, lng, label in zip(manhattan_data['Latitude'], manhattan_data['Longitude'], manhattan_data['Neighborhood']):\n",
    "    label = folium.Popup(label, parse_html=True)\n",
    "    folium.CircleMarker(\n",
    "        [lat, lng],\n",
    "        radius=5,\n",
    "        popup=label,\n",
    "        color='blue',\n",
    "        fill=True,\n",
    "        fill_color='#3186cc',\n",
    "        fill_opacity=0.7,\n",
    "        parse_html=False).add_to(map_manhattan)  \n",
    "    \n",
    "map_manhattan"
   ]
  },
  {
   "cell_type": "markdown",
   "metadata": {},
   "source": [
    "Next, we are going to start utilizing the Foursquare API to explore the neighborhoods and segment them."
   ]
  },
  {
   "cell_type": "markdown",
   "metadata": {},
   "source": [
    "#### Define Foursquare Credentials and Version"
   ]
  },
  {
   "cell_type": "code",
   "execution_count": 20,
   "metadata": {
    "jupyter": {
     "outputs_hidden": false
    }
   },
   "outputs": [
    {
     "name": "stdout",
     "output_type": "stream",
     "text": [
      "Your credentails:\n",
      "CLIENT_ID: your-client-ID\n",
      "CLIENT_SECRET:your-client-secret\n"
     ]
    }
   ],
   "source": [
    "CLIENT_ID = 'your-client-ID' # your Foursquare ID\n",
    "CLIENT_SECRET = 'your-client-secret' # your Foursquare Secret\n",
    "VERSION = '20180605' # Foursquare API version\n",
    "\n",
    "print('Your credentails:')\n",
    "print('CLIENT_ID: ' + CLIENT_ID)\n",
    "print('CLIENT_SECRET:' + CLIENT_SECRET)"
   ]
  },
  {
   "cell_type": "markdown",
   "metadata": {},
   "source": [
    "#### Let's explore the first neighborhood in our dataframe."
   ]
  },
  {
   "cell_type": "markdown",
   "metadata": {},
   "source": [
    "Get the neighborhood's name."
   ]
  },
  {
   "cell_type": "code",
   "execution_count": null,
   "metadata": {
    "jupyter": {
     "outputs_hidden": false
    }
   },
   "outputs": [],
   "source": [
    "manhattan_data.loc[0, 'Neighborhood']"
   ]
  },
  {
   "cell_type": "markdown",
   "metadata": {},
   "source": [
    "Get the neighborhood's latitude and longitude values."
   ]
  },
  {
   "cell_type": "code",
   "execution_count": null,
   "metadata": {
    "jupyter": {
     "outputs_hidden": false
    }
   },
   "outputs": [],
   "source": [
    "neighborhood_latitude = manhattan_data.loc[0, 'Latitude'] # neighborhood latitude value\n",
    "neighborhood_longitude = manhattan_data.loc[0, 'Longitude'] # neighborhood longitude value\n",
    "\n",
    "neighborhood_name = manhattan_data.loc[0, 'Neighborhood'] # neighborhood name\n",
    "\n",
    "print('Latitude and longitude values of {} are {}, {}.'.format(neighborhood_name, \n",
    "                                                               neighborhood_latitude, \n",
    "                                                               neighborhood_longitude))"
   ]
  },
  {
   "cell_type": "markdown",
   "metadata": {},
   "source": [
    "#### Now, let's get the top 100 venues that are in Marble Hill within a radius of 500 meters."
   ]
  },
  {
   "cell_type": "markdown",
   "metadata": {},
   "source": [
    "First, let's create the GET request URL. Name your URL **url**."
   ]
  },
  {
   "cell_type": "code",
   "execution_count": null,
   "metadata": {
    "jupyter": {
     "outputs_hidden": false
    },
    "scrolled": true
   },
   "outputs": [],
   "source": [
    "# type your answer here\n",
    "\n",
    "\n",
    "\n"
   ]
  },
  {
   "cell_type": "markdown",
   "metadata": {},
   "source": [
    "Double-click __here__ for the solution.\n",
    "<!-- The correct answer is:\n",
    "LIMIT = 100 # limit of number of venues returned by Foursquare API\n",
    "-->\n",
    "\n",
    "<!--\n",
    "radius = 500 # define radius\n",
    "-->\n",
    "\n",
    "<!--\n",
    "\\\\ # create URL\n",
    "url = 'https://api.foursquare.com/v2/venues/explore?&client_id={}&client_secret={}&v={}&ll={},{}&radius={}&limit={}'.format(\n",
    "    CLIENT_ID, \n",
    "    CLIENT_SECRET, \n",
    "    VERSION, \n",
    "    neighborhood_latitude, \n",
    "    neighborhood_longitude, \n",
    "    radius, \n",
    "    LIMIT)\n",
    "url # display URL\n",
    "--> "
   ]
  },
  {
   "cell_type": "markdown",
   "metadata": {},
   "source": [
    "Send the GET request and examine the resutls"
   ]
  },
  {
   "cell_type": "code",
   "execution_count": null,
   "metadata": {
    "jupyter": {
     "outputs_hidden": false
    }
   },
   "outputs": [],
   "source": [
    "results = requests.get(url).json()\n",
    "results"
   ]
  },
  {
   "cell_type": "markdown",
   "metadata": {},
   "source": [
    "From the Foursquare lab in the previous module, we know that all the information is in the *items* key. Before we proceed, let's borrow the **get_category_type** function from the Foursquare lab."
   ]
  },
  {
   "cell_type": "code",
   "execution_count": null,
   "metadata": {
    "collapsed": true,
    "jupyter": {
     "outputs_hidden": true
    }
   },
   "outputs": [],
   "source": [
    "# function that extracts the category of the venue\n",
    "def get_category_type(row):\n",
    "    try:\n",
    "        categories_list = row['categories']\n",
    "    except:\n",
    "        categories_list = row['venue.categories']\n",
    "        \n",
    "    if len(categories_list) == 0:\n",
    "        return None\n",
    "    else:\n",
    "        return categories_list[0]['name']"
   ]
  },
  {
   "cell_type": "markdown",
   "metadata": {},
   "source": [
    "Now we are ready to clean the json and structure it into a *pandas* dataframe."
   ]
  },
  {
   "cell_type": "code",
   "execution_count": null,
   "metadata": {
    "jupyter": {
     "outputs_hidden": false
    }
   },
   "outputs": [],
   "source": [
    "venues = results['response']['groups'][0]['items']\n",
    "    \n",
    "nearby_venues = json_normalize(venues) # flatten JSON\n",
    "\n",
    "# filter columns\n",
    "filtered_columns = ['venue.name', 'venue.categories', 'venue.location.lat', 'venue.location.lng']\n",
    "nearby_venues =nearby_venues.loc[:, filtered_columns]\n",
    "\n",
    "# filter the category for each row\n",
    "nearby_venues['venue.categories'] = nearby_venues.apply(get_category_type, axis=1)\n",
    "\n",
    "# clean columns\n",
    "nearby_venues.columns = [col.split(\".\")[-1] for col in nearby_venues.columns]\n",
    "\n",
    "nearby_venues.head()"
   ]
  },
  {
   "cell_type": "markdown",
   "metadata": {},
   "source": [
    "And how many venues were returned by Foursquare?"
   ]
  },
  {
   "cell_type": "code",
   "execution_count": null,
   "metadata": {
    "jupyter": {
     "outputs_hidden": false
    }
   },
   "outputs": [],
   "source": [
    "print('{} venues were returned by Foursquare.'.format(nearby_venues.shape[0]))"
   ]
  },
  {
   "cell_type": "markdown",
   "metadata": {},
   "source": [
    "<a id='item2'></a>"
   ]
  },
  {
   "cell_type": "markdown",
   "metadata": {},
   "source": [
    "## 2. Explore Neighborhoods in Manhattan"
   ]
  },
  {
   "cell_type": "markdown",
   "metadata": {},
   "source": [
    "#### Let's create a function to repeat the same process to all the neighborhoods in Manhattan"
   ]
  },
  {
   "cell_type": "code",
   "execution_count": null,
   "metadata": {
    "collapsed": true,
    "jupyter": {
     "outputs_hidden": true
    }
   },
   "outputs": [],
   "source": [
    "def getNearbyVenues(names, latitudes, longitudes, radius=500):\n",
    "    \n",
    "    venues_list=[]\n",
    "    for name, lat, lng in zip(names, latitudes, longitudes):\n",
    "        print(name)\n",
    "            \n",
    "        # create the API request URL\n",
    "        url = 'https://api.foursquare.com/v2/venues/explore?&client_id={}&client_secret={}&v={}&ll={},{}&radius={}&limit={}'.format(\n",
    "            CLIENT_ID, \n",
    "            CLIENT_SECRET, \n",
    "            VERSION, \n",
    "            lat, \n",
    "            lng, \n",
    "            radius, \n",
    "            LIMIT)\n",
    "            \n",
    "        # make the GET request\n",
    "        results = requests.get(url).json()[\"response\"]['groups'][0]['items']\n",
    "        \n",
    "        # return only relevant information for each nearby venue\n",
    "        venues_list.append([(\n",
    "            name, \n",
    "            lat, \n",
    "            lng, \n",
    "            v['venue']['name'], \n",
    "            v['venue']['location']['lat'], \n",
    "            v['venue']['location']['lng'],  \n",
    "            v['venue']['categories'][0]['name']) for v in results])\n",
    "\n",
    "    nearby_venues = pd.DataFrame([item for venue_list in venues_list for item in venue_list])\n",
    "    nearby_venues.columns = ['Neighborhood', \n",
    "                  'Neighborhood Latitude', \n",
    "                  'Neighborhood Longitude', \n",
    "                  'Venue', \n",
    "                  'Venue Latitude', \n",
    "                  'Venue Longitude', \n",
    "                  'Venue Category']\n",
    "    \n",
    "    return(nearby_venues)"
   ]
  },
  {
   "cell_type": "markdown",
   "metadata": {},
   "source": [
    "#### Now write the code to run the above function on each neighborhood and create a new dataframe called *manhattan_venues*."
   ]
  },
  {
   "cell_type": "code",
   "execution_count": null,
   "metadata": {
    "jupyter": {
     "outputs_hidden": false
    },
    "scrolled": true
   },
   "outputs": [],
   "source": [
    "# type your answer here\n",
    "\n",
    "manhattan_venues = getNearbyVenues(names=manhattan_data['Neighborhood'],\n",
    "                                   latitudes=manhattan_data['Latitude'],\n",
    "                                   longitudes=manhattan_data['Longitude']\n",
    "                                  )\n",
    "\n"
   ]
  },
  {
   "cell_type": "markdown",
   "metadata": {},
   "source": [
    "Double-click __here__ for the solution.\n",
    "<!-- The correct answer is:\n",
    "manhattan_venues = getNearbyVenues(names=manhattan_data['Neighborhood'],\n",
    "                                   latitudes=manhattan_data['Latitude'],\n",
    "                                   longitudes=manhattan_data['Longitude']\n",
    "                                  )\n",
    "--> "
   ]
  },
  {
   "cell_type": "markdown",
   "metadata": {},
   "source": [
    "#### Let's check the size of the resulting dataframe"
   ]
  },
  {
   "cell_type": "code",
   "execution_count": null,
   "metadata": {
    "jupyter": {
     "outputs_hidden": false
    }
   },
   "outputs": [],
   "source": [
    "print(manhattan_venues.shape)\n",
    "manhattan_venues.head()"
   ]
  },
  {
   "cell_type": "markdown",
   "metadata": {},
   "source": [
    "Let's check how many venues were returned for each neighborhood"
   ]
  },
  {
   "cell_type": "code",
   "execution_count": null,
   "metadata": {
    "jupyter": {
     "outputs_hidden": false
    }
   },
   "outputs": [],
   "source": [
    "manhattan_venues.groupby('Neighborhood').count()"
   ]
  },
  {
   "cell_type": "markdown",
   "metadata": {},
   "source": [
    "#### Let's find out how many unique categories can be curated from all the returned venues"
   ]
  },
  {
   "cell_type": "code",
   "execution_count": null,
   "metadata": {
    "jupyter": {
     "outputs_hidden": false
    }
   },
   "outputs": [],
   "source": [
    "print('There are {} uniques categories.'.format(len(manhattan_venues['Venue Category'].unique())))"
   ]
  },
  {
   "cell_type": "markdown",
   "metadata": {},
   "source": [
    "<a id='item3'></a>"
   ]
  },
  {
   "cell_type": "markdown",
   "metadata": {},
   "source": [
    "## 3. Analyze Each Neighborhood"
   ]
  },
  {
   "cell_type": "code",
   "execution_count": null,
   "metadata": {
    "jupyter": {
     "outputs_hidden": false
    }
   },
   "outputs": [],
   "source": [
    "# one hot encoding\n",
    "manhattan_onehot = pd.get_dummies(manhattan_venues[['Venue Category']], prefix=\"\", prefix_sep=\"\")\n",
    "\n",
    "# add neighborhood column back to dataframe\n",
    "manhattan_onehot['Neighborhood'] = manhattan_venues['Neighborhood'] \n",
    "\n",
    "# move neighborhood column to the first column\n",
    "fixed_columns = [manhattan_onehot.columns[-1]] + list(manhattan_onehot.columns[:-1])\n",
    "manhattan_onehot = manhattan_onehot[fixed_columns]\n",
    "\n",
    "manhattan_onehot.head()"
   ]
  },
  {
   "cell_type": "markdown",
   "metadata": {},
   "source": [
    "And let's examine the new dataframe size."
   ]
  },
  {
   "cell_type": "code",
   "execution_count": null,
   "metadata": {
    "jupyter": {
     "outputs_hidden": false
    }
   },
   "outputs": [],
   "source": [
    "manhattan_onehot.shape"
   ]
  },
  {
   "cell_type": "markdown",
   "metadata": {},
   "source": [
    "#### Next, let's group rows by neighborhood and by taking the mean of the frequency of occurrence of each category"
   ]
  },
  {
   "cell_type": "code",
   "execution_count": null,
   "metadata": {
    "jupyter": {
     "outputs_hidden": false
    }
   },
   "outputs": [],
   "source": [
    "manhattan_grouped = manhattan_onehot.groupby('Neighborhood').mean().reset_index()\n",
    "manhattan_grouped"
   ]
  },
  {
   "cell_type": "markdown",
   "metadata": {},
   "source": [
    "#### Let's confirm the new size"
   ]
  },
  {
   "cell_type": "code",
   "execution_count": null,
   "metadata": {
    "jupyter": {
     "outputs_hidden": false
    }
   },
   "outputs": [],
   "source": [
    "manhattan_grouped.shape"
   ]
  },
  {
   "cell_type": "markdown",
   "metadata": {},
   "source": [
    "#### Let's print each neighborhood along with the top 5 most common venues"
   ]
  },
  {
   "cell_type": "code",
   "execution_count": null,
   "metadata": {
    "jupyter": {
     "outputs_hidden": false
    }
   },
   "outputs": [],
   "source": [
    "num_top_venues = 5\n",
    "\n",
    "for hood in manhattan_grouped['Neighborhood']:\n",
    "    print(\"----\"+hood+\"----\")\n",
    "    temp = manhattan_grouped[manhattan_grouped['Neighborhood'] == hood].T.reset_index()\n",
    "    temp.columns = ['venue','freq']\n",
    "    temp = temp.iloc[1:]\n",
    "    temp['freq'] = temp['freq'].astype(float)\n",
    "    temp = temp.round({'freq': 2})\n",
    "    print(temp.sort_values('freq', ascending=False).reset_index(drop=True).head(num_top_venues))\n",
    "    print('\\n')"
   ]
  },
  {
   "cell_type": "markdown",
   "metadata": {},
   "source": [
    "#### Let's put that into a *pandas* dataframe"
   ]
  },
  {
   "cell_type": "markdown",
   "metadata": {},
   "source": [
    "First, let's write a function to sort the venues in descending order."
   ]
  },
  {
   "cell_type": "code",
   "execution_count": null,
   "metadata": {
    "collapsed": true,
    "jupyter": {
     "outputs_hidden": true
    }
   },
   "outputs": [],
   "source": [
    "def return_most_common_venues(row, num_top_venues):\n",
    "    row_categories = row.iloc[1:]\n",
    "    row_categories_sorted = row_categories.sort_values(ascending=False)\n",
    "    \n",
    "    return row_categories_sorted.index.values[0:num_top_venues]"
   ]
  },
  {
   "cell_type": "markdown",
   "metadata": {},
   "source": [
    "Now let's create the new dataframe and display the top 10 venues for each neighborhood."
   ]
  },
  {
   "cell_type": "code",
   "execution_count": null,
   "metadata": {
    "jupyter": {
     "outputs_hidden": false
    }
   },
   "outputs": [],
   "source": [
    "num_top_venues = 10\n",
    "\n",
    "indicators = ['st', 'nd', 'rd']\n",
    "\n",
    "# create columns according to number of top venues\n",
    "columns = ['Neighborhood']\n",
    "for ind in np.arange(num_top_venues):\n",
    "    try:\n",
    "        columns.append('{}{} Most Common Venue'.format(ind+1, indicators[ind]))\n",
    "    except:\n",
    "        columns.append('{}th Most Common Venue'.format(ind+1))\n",
    "\n",
    "# create a new dataframe\n",
    "neighborhoods_venues_sorted = pd.DataFrame(columns=columns)\n",
    "neighborhoods_venues_sorted['Neighborhood'] = manhattan_grouped['Neighborhood']\n",
    "\n",
    "for ind in np.arange(manhattan_grouped.shape[0]):\n",
    "    neighborhoods_venues_sorted.iloc[ind, 1:] = return_most_common_venues(manhattan_grouped.iloc[ind, :], num_top_venues)\n",
    "\n",
    "neighborhoods_venues_sorted.head()"
   ]
  },
  {
   "cell_type": "markdown",
   "metadata": {},
   "source": [
    "<a id='item4'></a>"
   ]
  },
  {
   "cell_type": "markdown",
   "metadata": {},
   "source": [
    "## 4. Cluster Neighborhoods"
   ]
  },
  {
   "cell_type": "markdown",
   "metadata": {},
   "source": [
    "Run *k*-means to cluster the neighborhood into 5 clusters."
   ]
  },
  {
   "cell_type": "code",
   "execution_count": null,
   "metadata": {
    "jupyter": {
     "outputs_hidden": false
    }
   },
   "outputs": [],
   "source": [
    "# set number of clusters\n",
    "kclusters = 5\n",
    "\n",
    "manhattan_grouped_clustering = manhattan_grouped.drop('Neighborhood', 1)\n",
    "\n",
    "# run k-means clustering\n",
    "kmeans = KMeans(n_clusters=kclusters, random_state=0).fit(manhattan_grouped_clustering)\n",
    "\n",
    "# check cluster labels generated for each row in the dataframe\n",
    "kmeans.labels_[0:10] "
   ]
  },
  {
   "cell_type": "markdown",
   "metadata": {},
   "source": [
    "Let's create a new dataframe that includes the cluster as well as the top 10 venues for each neighborhood."
   ]
  },
  {
   "cell_type": "code",
   "execution_count": null,
   "metadata": {
    "jupyter": {
     "outputs_hidden": false
    }
   },
   "outputs": [],
   "source": [
    "# add clustering labels\n",
    "neighborhoods_venues_sorted.insert(0, 'Cluster Labels', kmeans.labels_)\n",
    "\n",
    "manhattan_merged = manhattan_data\n",
    "\n",
    "# merge toronto_grouped with toronto_data to add latitude/longitude for each neighborhood\n",
    "manhattan_merged = manhattan_merged.join(neighborhoods_venues_sorted.set_index('Neighborhood'), on='Neighborhood')\n",
    "\n",
    "manhattan_merged.head() # check the last columns!"
   ]
  },
  {
   "cell_type": "markdown",
   "metadata": {},
   "source": [
    "Finally, let's visualize the resulting clusters"
   ]
  },
  {
   "cell_type": "code",
   "execution_count": null,
   "metadata": {
    "jupyter": {
     "outputs_hidden": false
    }
   },
   "outputs": [],
   "source": [
    "# create map\n",
    "map_clusters = folium.Map(location=[latitude, longitude], zoom_start=11)\n",
    "\n",
    "# set color scheme for the clusters\n",
    "x = np.arange(kclusters)\n",
    "ys = [i + x + (i*x)**2 for i in range(kclusters)]\n",
    "colors_array = cm.rainbow(np.linspace(0, 1, len(ys)))\n",
    "rainbow = [colors.rgb2hex(i) for i in colors_array]\n",
    "\n",
    "# add markers to the map\n",
    "markers_colors = []\n",
    "for lat, lon, poi, cluster in zip(manhattan_merged['Latitude'], manhattan_merged['Longitude'], manhattan_merged['Neighborhood'], manhattan_merged['Cluster Labels']):\n",
    "    label = folium.Popup(str(poi) + ' Cluster ' + str(cluster), parse_html=True)\n",
    "    folium.CircleMarker(\n",
    "        [lat, lon],\n",
    "        radius=5,\n",
    "        popup=label,\n",
    "        color=rainbow[cluster-1],\n",
    "        fill=True,\n",
    "        fill_color=rainbow[cluster-1],\n",
    "        fill_opacity=0.7).add_to(map_clusters)\n",
    "       \n",
    "map_clusters"
   ]
  },
  {
   "cell_type": "markdown",
   "metadata": {},
   "source": [
    "<a id='item5'></a>"
   ]
  },
  {
   "cell_type": "markdown",
   "metadata": {},
   "source": [
    "## 5. Examine Clusters"
   ]
  },
  {
   "cell_type": "markdown",
   "metadata": {},
   "source": [
    "Now, you can examine each cluster and determine the discriminating venue categories that distinguish each cluster. Based on the defining categories, you can then assign a name to each cluster. I will leave this exercise to you."
   ]
  },
  {
   "cell_type": "markdown",
   "metadata": {},
   "source": [
    "#### Cluster 1"
   ]
  },
  {
   "cell_type": "code",
   "execution_count": null,
   "metadata": {
    "jupyter": {
     "outputs_hidden": false
    }
   },
   "outputs": [],
   "source": [
    "manhattan_merged.loc[manhattan_merged['Cluster Labels'] == 0, manhattan_merged.columns[[1] + list(range(5, manhattan_merged.shape[1]))]]"
   ]
  },
  {
   "cell_type": "markdown",
   "metadata": {},
   "source": [
    "#### Cluster 2"
   ]
  },
  {
   "cell_type": "code",
   "execution_count": null,
   "metadata": {
    "jupyter": {
     "outputs_hidden": false
    }
   },
   "outputs": [],
   "source": [
    "manhattan_merged.loc[manhattan_merged['Cluster Labels'] == 1, manhattan_merged.columns[[1] + list(range(5, manhattan_merged.shape[1]))]]"
   ]
  },
  {
   "cell_type": "markdown",
   "metadata": {},
   "source": [
    "#### Cluster 3"
   ]
  },
  {
   "cell_type": "code",
   "execution_count": null,
   "metadata": {
    "jupyter": {
     "outputs_hidden": false
    }
   },
   "outputs": [],
   "source": [
    "manhattan_merged.loc[manhattan_merged['Cluster Labels'] == 2, manhattan_merged.columns[[1] + list(range(5, manhattan_merged.shape[1]))]]"
   ]
  },
  {
   "cell_type": "markdown",
   "metadata": {},
   "source": [
    "#### Cluster 4"
   ]
  },
  {
   "cell_type": "code",
   "execution_count": null,
   "metadata": {
    "jupyter": {
     "outputs_hidden": false
    }
   },
   "outputs": [],
   "source": [
    "manhattan_merged.loc[manhattan_merged['Cluster Labels'] == 3, manhattan_merged.columns[[1] + list(range(5, manhattan_merged.shape[1]))]]"
   ]
  },
  {
   "cell_type": "markdown",
   "metadata": {},
   "source": [
    "#### Cluster 5"
   ]
  },
  {
   "cell_type": "code",
   "execution_count": null,
   "metadata": {
    "jupyter": {
     "outputs_hidden": false
    }
   },
   "outputs": [],
   "source": [
    "manhattan_merged.loc[manhattan_merged['Cluster Labels'] == 4, manhattan_merged.columns[[1] + list(range(5, manhattan_merged.shape[1]))]]"
   ]
  },
  {
   "cell_type": "markdown",
   "metadata": {},
   "source": [
    "### Thank you for completing this lab!\n",
    "\n",
    "This notebook was created by [Alex Aklson](https://www.linkedin.com/in/aklson/) and [Polong Lin](https://www.linkedin.com/in/polonglin/). I hope you found this lab interesting and educational. Feel free to contact us if you have any questions!"
   ]
  },
  {
   "cell_type": "markdown",
   "metadata": {},
   "source": [
    "This notebook is part of a course on **Coursera** called *Applied Data Science Capstone*. If you accessed this notebook outside the course, you can take this course online by clicking [here](http://cocl.us/DP0701EN_Coursera_Week3_LAB2)."
   ]
  },
  {
   "cell_type": "markdown",
   "metadata": {},
   "source": [
    "<hr>\n",
    "\n",
    "Copyright &copy; 2018 [Cognitive Class](https://cognitiveclass.ai/?utm_source=bducopyrightlink&utm_medium=dswb&utm_campaign=bdu). This notebook and its source code are released under the terms of the [MIT License](https://bigdatauniversity.com/mit-license/)."
   ]
  }
 ],
 "metadata": {
  "kernelspec": {
   "display_name": "Python 3",
   "language": "python",
   "name": "python3"
  },
  "language_info": {
   "codemirror_mode": {
    "name": "ipython",
    "version": 3
   },
   "file_extension": ".py",
   "mimetype": "text/x-python",
   "name": "python",
   "nbconvert_exporter": "python",
   "pygments_lexer": "ipython3",
   "version": "3.7.4"
  },
  "widgets": {
   "state": {},
   "version": "1.1.2"
  }
 },
 "nbformat": 4,
 "nbformat_minor": 4
}
